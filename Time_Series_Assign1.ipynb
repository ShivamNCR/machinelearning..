{
 "cells": [
  {
   "cell_type": "markdown",
   "id": "cf4d9120-3586-49ba-8648-1c90c41e630b",
   "metadata": {},
   "source": [
    "# QUESTIONS"
   ]
  },
  {
   "cell_type": "code",
   "execution_count": null,
   "id": "978acfab-c030-457e-ab99-30d8e177a5b5",
   "metadata": {},
   "outputs": [],
   "source": [
    "\n",
    "Q1. What is a time series, and what are some common applications of time series analysis?\n",
    "\n",
    "Q2. What are some common time series patterns, and how can they be identified and interpreted?\n",
    "\n",
    "Q3. How can time series data be preprocessed before applying analysis techniques?\n",
    "\n",
    "Q4. How can time series forecasting be used in business decision-making, and what are some common\n",
    "challenges and limitations?\n",
    "\n",
    "Q5. What is ARIMA modelling, and how can it be used to forecast time series data?\n",
    "\n",
    "Q6. How do Autocorrelation Function (ACF) and Partial Autocorrelation Function (PACF) plots help in\n",
    "identifying the order of ARIMA models?\n",
    "\n",
    "Q7. What are the assumptions of ARIMA models, and how can they be tested for in practice?\n",
    "                                                                        \n",
    "Q8. Suppose you have monthly sales data for a retail store for the past three years. Which type of time\n",
    "series model would you recommend for forecasting future sales, and why?\n",
    "                                \n",
    "Q9. What are some of the limitations of time series analysis? Provide an example of a scenario where the\n",
    "limitations of time series analysis may be particularly relevant.\n",
    "                                \n",
    "Q10. Explain the difference between a stationary and non-stationary time series. How does the stationarity\n",
    "of a time series affect the choice of forecasting model?\n"
   ]
  },
  {
   "cell_type": "markdown",
   "id": "24ba8481-efb7-43ce-9289-6c432fae931a",
   "metadata": {},
   "source": [
    "## Solutions..."
   ]
  },
  {
   "cell_type": "code",
   "execution_count": null,
   "id": "81483de6-c482-4efd-acd6-c9f81d87f283",
   "metadata": {},
   "outputs": [],
   "source": [
    "#Sol1\n",
    "Time series: A sequence of data points collected or recorded at time intervals (e.g., hourly, daily, monthly).\n",
    "Applications: \n",
    "  Stock market: Predicting stock prices.\n",
    "  Weather forecasting: Predicting temperature, rainfall, etc.\n",
    "  Sales analysis: Forecasting future sales based on past trends.\n",
    "  Economic forecasting: Predicting GDP, unemployment rates, etc.\n",
    "  IoT: Analyzing sensor data from devices over time.\n",
    "\n",
    "\n",
    " "
   ]
  },
  {
   "cell_type": "code",
   "execution_count": null,
   "id": "93371d1e-a307-4dd8-a778-144eabf71d61",
   "metadata": {},
   "outputs": [],
   "source": [
    "#Sol2..\n",
    "- **Trend**: A long-term increase or decrease in the data, visible through plotting the time series or using moving averages.\n",
    "- **Seasonality**: A repeating pattern over regular intervals (e.g., sales increasing every December). Can be identified through\n",
    "   decomposition methods or periodograms.\n",
    "- **Cycle**: Long-term fluctuations with no fixed period (e.g., economic booms and busts). Detected by observing the series \n",
    "       over a longer time span.\n",
    "- **Noise**: Random, short-term fluctuations that do not follow a pattern. This can be smoothed out using techniques like moving averages.\n"
   ]
  },
  {
   "cell_type": "code",
   "execution_count": null,
   "id": "24c8d630-0543-4513-8905-a9577ade3a9d",
   "metadata": {},
   "outputs": [],
   "source": [
    "#Sol3...\n",
    "\n",
    "- **Handling missing data**: Filling gaps through interpolation or forward/backward filling methods.\n",
    "- **Smoothing**: Reducing noise by averaging over a rolling window (e.g., using moving averages).\n",
    "- **Detrending**: Removing trends to focus on other patterns, achieved by subtracting the trend component.\n",
    "- **Deseasonalizing**: Removing seasonal patterns by dividing the series by seasonal factors.\n",
    "- **Differencing**: Transforming the data by subtracting consecutive data points to make the series stationary.\n",
    "- **Scaling**: Normalizing or standardizing the data for easier model convergence."
   ]
  },
  {
   "cell_type": "code",
   "execution_count": null,
   "id": "072f000a-db88-4512-934f-495c28e85848",
   "metadata": {},
   "outputs": [],
   "source": [
    "#Sol4...\n",
    "\n",
    "- **Uses**:\n",
    "  - **Inventory management**: Forecasting demand helps prevent overstocking or understocking.\n",
    "  - **Financial forecasting**: Predicting future revenue or expenses to aid in budget planning.\n",
    "  - **Marketing strategy**: Identifying seasonal trends in customer behavior to optimize campaigns.\n",
    "- **Challenges**:\n",
    "  - **Uncertainty**: Unexpected events (e.g., economic shocks) can cause forecasts to be inaccurate.\n",
    "  - **Non-stationary data**: Trends and seasonality can change over time, making forecasts less reliable.\n",
    "  - **Overfitting**: Models may perform well on historical data but fail to generalize to new data.\n"
   ]
  },
  {
   "cell_type": "code",
   "execution_count": null,
   "id": "09c21967-93a3-43a4-af95-ebb2bcb801da",
   "metadata": {},
   "outputs": [],
   "source": [
    "#Sol5...\n",
    "\n",
    "ARIMA (AutoRegressive Integrated Moving Average): \n",
    "  - **AR (AutoRegressive)**: Relies on the relationship between an observation and a number of lagged observations.\n",
    "  - **I (Integrated)**: Involves differencing the data to achieve stationarity.\n",
    "  - **MA (Moving Average)**: Uses the dependency between an observation and a residual error from a moving average model.\n",
    "  - ARIMA is commonly used for forecasting by fitting these components to historical data.\n"
   ]
  },
  {
   "cell_type": "code",
   "execution_count": null,
   "id": "a4d367e1-629b-4047-820f-043ebe28eb56",
   "metadata": {},
   "outputs": [],
   "source": [
    "#Sol6...\n",
    "\n",
    "- **ACF (Autocorrelation Function)**: Shows the correlation between an observation and lagged observations. Helps identify\n",
    "the order of the **MA** component by showing where correlations drop off.\n",
    "\n",
    "- **PACF (Partial Autocorrelation Function)**: Shows the correlation between an observation and its lags, after removing the \n",
    "effects of earlier lags. Helps determine the order of the **AR** component by indicating the number of significant lag correlations.\n"
   ]
  },
  {
   "cell_type": "code",
   "execution_count": null,
   "id": "d7813244-c254-4acd-b470-49109f02397f",
   "metadata": {},
   "outputs": [],
   "source": [
    "#Sol7...\n",
    "\n",
    "- **Stationarity**: The series should be stationary. Test this using the **Augmented Dickey-Fuller (ADF)** test. If the series \n",
    "  isn’t stationary, apply differencing.\n",
    "\n",
    "- **No autocorrelation in residuals**: After fitting an ARIMA model, the residuals should be white noise (uncorrelated). Test this \n",
    "  using **Ljung-Box** test or inspect residual ACF plots.\n",
    "    \n",
    "- **Normal distribution of residuals**: The residuals should be normally distributed, which can be tested using a **Q-Q plot** or \n",
    "  **Shapiro-Wilk** test.\n"
   ]
  },
  {
   "cell_type": "code",
   "execution_count": null,
   "id": "63bfad51-9020-4ae2-b7f1-97a876d17fc7",
   "metadata": {},
   "outputs": [],
   "source": [
    "#Sol8...\n",
    "\n",
    "- **Model recommendation**: **Seasonal ARIMA (SARIMA)** or **Exponential Smoothing (ETS)** models.\n",
    "\n",
    "- **Why**: Monthly sales data usually exhibit both trend and seasonality. SARIMA can handle seasonal variations, and ETS is \n",
    "  effective for capturing trends and seasonal components.\n"
   ]
  },
  {
   "cell_type": "code",
   "execution_count": null,
   "id": "1d6e3753-c7c6-44bf-afce-80307b297225",
   "metadata": {},
   "outputs": [],
   "source": [
    "#Sol9...\n",
    "\n",
    "- **Limitations**:\n",
    "  - **Historical dependence**: Assumes future behavior depends solely on past data, which may not hold if external factors change.\n",
    "  - **Non-stationarity**: If trends, seasonality, or other factors shift significantly, models may become ineffective.\n",
    "  - **External variables**: Time series models do not inherently account for exogenous variables, which can be critical in some scenarios.\n",
    "  \n",
    "  **Example**: Forecasting retail sales during a pandemic where historical data no longer reflects current consumer behavior. Sudden shifts\n",
    "in the economy or disruptions in supply chains can make past data irrelevant.\n"
   ]
  },
  {
   "cell_type": "code",
   "execution_count": null,
   "id": "fab7b735-bc83-47f9-8a06-8d1d96fc166e",
   "metadata": {},
   "outputs": [],
   "source": [
    "#Sol10...\n",
    "\n",
    "- **Stationary time series**: The statistical properties (mean, variance, autocorrelation) do not change over time.\n",
    "Easier to model and forecast.\n",
    "- **Non-stationary time series**: The statistical properties change over time, often showing trends or seasonality. Requires\n",
    "transformation (like differencing) to make it stationary.\n",
    "\n",
    "\n",
    "- **Effect on forecasting model**:\n",
    "  - **Stationary series**: Can use simpler models like **ARMA**.\n",
    "  - **Non-stationary series**: Requires models like **ARIMA** after differencing to achieve stationarity.\n"
   ]
  },
  {
   "cell_type": "code",
   "execution_count": null,
   "id": "d5c68166-f7ed-44ea-b060-8e49e4f59c40",
   "metadata": {},
   "outputs": [],
   "source": []
  },
  {
   "cell_type": "code",
   "execution_count": null,
   "id": "f473f528-b69d-45c2-909c-526375b6fdbb",
   "metadata": {},
   "outputs": [],
   "source": []
  },
  {
   "cell_type": "code",
   "execution_count": null,
   "id": "d66a885e-4f73-4198-a02b-1100b517e27c",
   "metadata": {},
   "outputs": [],
   "source": []
  },
  {
   "cell_type": "code",
   "execution_count": null,
   "id": "c3169f24-b63c-4934-96f7-6faf5c53e2c3",
   "metadata": {},
   "outputs": [],
   "source": []
  },
  {
   "cell_type": "code",
   "execution_count": null,
   "id": "98d2e839-184b-474c-91b4-615fe5bde994",
   "metadata": {},
   "outputs": [],
   "source": []
  },
  {
   "cell_type": "code",
   "execution_count": null,
   "id": "387c1110-88ba-4c9b-848d-b4594d243c7d",
   "metadata": {},
   "outputs": [],
   "source": []
  },
  {
   "cell_type": "code",
   "execution_count": null,
   "id": "a11c5951-1add-4f5b-8705-d1356439a528",
   "metadata": {},
   "outputs": [],
   "source": []
  },
  {
   "cell_type": "code",
   "execution_count": null,
   "id": "0241d406-9348-49aa-8f68-0f5a37a2cac3",
   "metadata": {},
   "outputs": [],
   "source": []
  }
 ],
 "metadata": {
  "kernelspec": {
   "display_name": "Python 3 (ipykernel)",
   "language": "python",
   "name": "python3"
  },
  "language_info": {
   "codemirror_mode": {
    "name": "ipython",
    "version": 3
   },
   "file_extension": ".py",
   "mimetype": "text/x-python",
   "name": "python",
   "nbconvert_exporter": "python",
   "pygments_lexer": "ipython3",
   "version": "3.11.7"
  }
 },
 "nbformat": 4,
 "nbformat_minor": 5
}
