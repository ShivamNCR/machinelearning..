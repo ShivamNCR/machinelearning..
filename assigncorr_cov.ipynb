{
 "cells": [
  {
   "cell_type": "code",
   "execution_count": null,
   "id": "6ee45cfd-c0d1-4173-95a5-b4ee031d73d7",
   "metadata": {},
   "outputs": [],
   "source": [
    "#QUESTIONS...\n",
    "\n",
    "\n",
    "Q1. Pearson correlation coefficient is a measure of the linear relationship between two variables. Suppose\n",
    "you have collected data on the amount of time students spend studying for an exam and their final exam\n",
    "scores. Calculate the Pearson correlation coefficient between these two variables and interpret the result.\n",
    "\n",
    "\n",
    "Q2. Spearman's rank correlation is a measure of the monotonic relationship between two variables.\n",
    "Suppose you have collected data on the amount of sleep individuals get each night and their overall job\n",
    "satisfaction level on a scale of 1 to 10. Calculate the Spearman's rank correlation between these two\n",
    "variables and interpret the result.\n",
    "\n",
    "\n",
    "Q3. Suppose you are conducting a study to examine the relationship between the number of hours of\n",
    "exercise per week and body mass index (BMI) in a sample of adults. You collected data on both variables\n",
    "for 50 participants. Calculate the Pearson correlation coefficient and the Spearman's rank correlation\n",
    "between these two variables and compare the results.\n",
    "\n",
    "\n",
    "Q4. A researcher is interested in examining the relationship between the number of hours individuals\n",
    "spend watching television per day and their level of physical activity. The researcher collected data on\n",
    "both variables from a sample of 50 participants. Calculate the Pearson correlation coefficient between\n",
    "these two variables.\n",
    "\n",
    "\n",
    "Q5. A survey was conducted to examine the relationship between age and preference for a particular\n",
    "brand of soft drink. The survey results are shown below:\n",
    "    Age(Years)             Soft drink Preference\n",
    "\n",
    "25                           Coke\n",
    "42                           Pepsi\n",
    "37                           Mountain dew \n",
    "19                           coke\n",
    "31                           pepsi\n",
    "28                           coke\n",
    "\n",
    "\n",
    "Q6. A company is interested in examining the relationship between the number of sales calls made per day\n",
    "and the number of sales made per week. The company collected data on both variables from a sample of\n",
    "30 sales representatives. Calculate the Pearson correlation coefficient between these two variables.\n"
   ]
  },
  {
   "cell_type": "code",
   "execution_count": null,
   "id": "733fb656-ba6d-437b-84ff-1e358ebb16df",
   "metadata": {},
   "outputs": [],
   "source": [
    "#Sol1..\n",
    "\n",
    "Student # | Study Time (hours) | Exam Score (out of 100)\n",
    "-------------------------------------------------------\n",
    "   1     |        5           |          75\n",
    "   2     |        3           |          60\n",
    "   3     |        7           |          85\n",
    "   4     |        6           |          80\n",
    "   5     |        4           |          70\n"
   ]
  },
  {
   "cell_type": "code",
   "execution_count": null,
   "id": "713ca387-4167-442b-ac5b-5282f77ef55d",
   "metadata": {},
   "outputs": [],
   "source": [
    "Student # | Study Time Deviation | Exam Score Deviation\n",
    "-------------------------------------------------------\n",
    "   1     |        0             |          1\n",
    "   2     |       -2             |        -14\n",
    "   3     |        2             |          11\n",
    "   4     |        1             |          6\n",
    "   5     |       -1             |         -4\n"
   ]
  },
  {
   "cell_type": "code",
   "execution_count": null,
   "id": "f0d7e64e-02c6-42f8-927b-779be0250c8c",
   "metadata": {},
   "outputs": [],
   "source": [
    "\n",
    "Covarianc=(0+(−2)×(−14)+2×11+1×6+(−1)×(−4))/4\n",
    "covariance=15\n"
   ]
  },
  {
   "cell_type": "code",
   "execution_count": null,
   "id": "0b5361de-bd75-41a7-b6a6-a311654b848e",
   "metadata": {},
   "outputs": [],
   "source": [
    "Calculate Pearson Correlation Coefficient:\n",
    "\n",
    "r=15/(1.58*9.49)\n",
    "r=1"
   ]
  },
  {
   "cell_type": "code",
   "execution_count": 2,
   "id": "16a7e7b2-52e8-47aa-b32b-ef03163f74ab",
   "metadata": {},
   "outputs": [],
   "source": [
    "#Sol2..\n",
    "\n",
    "import pandas as pd\n",
    "from scipy.stats import spearmanr\n"
   ]
  },
  {
   "cell_type": "code",
   "execution_count": 3,
   "id": "58473c3b-e7a2-4d5c-b782-eea4500966f6",
   "metadata": {},
   "outputs": [],
   "source": [
    "#Creating data\n",
    "data={\n",
    "    'hours of sleep':[7,5,8,6,5],\n",
    "    'job satisfaction':[9,6,8,7,5]\n",
    "     }"
   ]
  },
  {
   "cell_type": "code",
   "execution_count": 4,
   "id": "fa1087fb-34bb-4140-b841-6aa709f397c9",
   "metadata": {},
   "outputs": [],
   "source": [
    "df=pd.DataFrame(data)"
   ]
  },
  {
   "cell_type": "code",
   "execution_count": 5,
   "id": "bc620cc6-f250-424b-83a6-9b54f8558781",
   "metadata": {},
   "outputs": [],
   "source": [
    "#calculating ranks..\n",
    "df['sleep rank']=df['hours of sleep'].rank()\n",
    "df['satisfaction rank']=df['job satisfaction'].rank()"
   ]
  },
  {
   "cell_type": "code",
   "execution_count": 6,
   "id": "83f803e2-627c-49ac-8f40-f33718544948",
   "metadata": {},
   "outputs": [
    {
     "name": "stdout",
     "output_type": "stream",
     "text": [
      "Spearman's rank correlation coefficient: 0.872\n"
     ]
    }
   ],
   "source": [
    "#calculating spearman rank correlation coefficient..\n",
    "correlation,p_value=spearmanr(df['sleep rank'],df['satisfaction rank'])\n",
    "\n",
    "print(f\"Spearman's rank correlation coefficient: {correlation:.3f}\")\n"
   ]
  },
  {
   "cell_type": "code",
   "execution_count": 7,
   "id": "782e31ce-66fd-4fca-8537-6c7e4a11ecea",
   "metadata": {},
   "outputs": [
    {
     "data": {
      "text/html": [
       "<div>\n",
       "<style scoped>\n",
       "    .dataframe tbody tr th:only-of-type {\n",
       "        vertical-align: middle;\n",
       "    }\n",
       "\n",
       "    .dataframe tbody tr th {\n",
       "        vertical-align: top;\n",
       "    }\n",
       "\n",
       "    .dataframe thead th {\n",
       "        text-align: right;\n",
       "    }\n",
       "</style>\n",
       "<table border=\"1\" class=\"dataframe\">\n",
       "  <thead>\n",
       "    <tr style=\"text-align: right;\">\n",
       "      <th></th>\n",
       "      <th>Participant</th>\n",
       "      <th>Hours of Exercise</th>\n",
       "      <th>BMI</th>\n",
       "    </tr>\n",
       "  </thead>\n",
       "  <tbody>\n",
       "    <tr>\n",
       "      <th>0</th>\n",
       "      <td>1</td>\n",
       "      <td>1</td>\n",
       "      <td>24.5</td>\n",
       "    </tr>\n",
       "    <tr>\n",
       "      <th>1</th>\n",
       "      <td>2</td>\n",
       "      <td>2</td>\n",
       "      <td>24.0</td>\n",
       "    </tr>\n",
       "    <tr>\n",
       "      <th>2</th>\n",
       "      <td>3</td>\n",
       "      <td>3</td>\n",
       "      <td>23.5</td>\n",
       "    </tr>\n",
       "    <tr>\n",
       "      <th>3</th>\n",
       "      <td>4</td>\n",
       "      <td>4</td>\n",
       "      <td>23.0</td>\n",
       "    </tr>\n",
       "    <tr>\n",
       "      <th>4</th>\n",
       "      <td>5</td>\n",
       "      <td>5</td>\n",
       "      <td>22.5</td>\n",
       "    </tr>\n",
       "  </tbody>\n",
       "</table>\n",
       "</div>"
      ],
      "text/plain": [
       "   Participant  Hours of Exercise   BMI\n",
       "0            1                  1  24.5\n",
       "1            2                  2  24.0\n",
       "2            3                  3  23.5\n",
       "3            4                  4  23.0\n",
       "4            5                  5  22.5"
      ]
     },
     "execution_count": 7,
     "metadata": {},
     "output_type": "execute_result"
    }
   ],
   "source": [
    "#Sol3..\n",
    "\n",
    "import pandas as pd\n",
    "\n",
    "# Creating sample data\n",
    "data = {\n",
    "    'Participant': list(range(1, 51)),  # Participant numbers\n",
    "    'Hours of Exercise': [i for i in range(1, 51)],  # Hours of exercise per week\n",
    "    'BMI': [25 - (i * 0.5) for i in range(1, 51)]  # Hypothetical BMI values inversely proportional to exercise hours\n",
    "}\n",
    "\n",
    "# Creating a DataFrame\n",
    "df = pd.DataFrame(data)\n",
    "\n",
    "# Displaying the DataFrame\n",
    "df.head()\n"
   ]
  },
  {
   "cell_type": "code",
   "execution_count": 8,
   "id": "621d7e76-415e-468c-a1f7-681360ad7954",
   "metadata": {},
   "outputs": [
    {
     "data": {
      "text/html": [
       "<div>\n",
       "<style scoped>\n",
       "    .dataframe tbody tr th:only-of-type {\n",
       "        vertical-align: middle;\n",
       "    }\n",
       "\n",
       "    .dataframe tbody tr th {\n",
       "        vertical-align: top;\n",
       "    }\n",
       "\n",
       "    .dataframe thead th {\n",
       "        text-align: right;\n",
       "    }\n",
       "</style>\n",
       "<table border=\"1\" class=\"dataframe\">\n",
       "  <thead>\n",
       "    <tr style=\"text-align: right;\">\n",
       "      <th></th>\n",
       "      <th>Participant</th>\n",
       "      <th>Hours of Exercise</th>\n",
       "      <th>BMI</th>\n",
       "    </tr>\n",
       "  </thead>\n",
       "  <tbody>\n",
       "    <tr>\n",
       "      <th>Participant</th>\n",
       "      <td>212.50</td>\n",
       "      <td>212.50</td>\n",
       "      <td>-106.250</td>\n",
       "    </tr>\n",
       "    <tr>\n",
       "      <th>Hours of Exercise</th>\n",
       "      <td>212.50</td>\n",
       "      <td>212.50</td>\n",
       "      <td>-106.250</td>\n",
       "    </tr>\n",
       "    <tr>\n",
       "      <th>BMI</th>\n",
       "      <td>-106.25</td>\n",
       "      <td>-106.25</td>\n",
       "      <td>53.125</td>\n",
       "    </tr>\n",
       "  </tbody>\n",
       "</table>\n",
       "</div>"
      ],
      "text/plain": [
       "                   Participant  Hours of Exercise      BMI\n",
       "Participant             212.50             212.50 -106.250\n",
       "Hours of Exercise       212.50             212.50 -106.250\n",
       "BMI                    -106.25            -106.25   53.125"
      ]
     },
     "execution_count": 8,
     "metadata": {},
     "output_type": "execute_result"
    }
   ],
   "source": [
    "df.cov()"
   ]
  },
  {
   "cell_type": "code",
   "execution_count": 9,
   "id": "b0ba37c1-1e9a-4f3b-8d1b-788d82dbe70c",
   "metadata": {},
   "outputs": [
    {
     "data": {
      "text/html": [
       "<div>\n",
       "<style scoped>\n",
       "    .dataframe tbody tr th:only-of-type {\n",
       "        vertical-align: middle;\n",
       "    }\n",
       "\n",
       "    .dataframe tbody tr th {\n",
       "        vertical-align: top;\n",
       "    }\n",
       "\n",
       "    .dataframe thead th {\n",
       "        text-align: right;\n",
       "    }\n",
       "</style>\n",
       "<table border=\"1\" class=\"dataframe\">\n",
       "  <thead>\n",
       "    <tr style=\"text-align: right;\">\n",
       "      <th></th>\n",
       "      <th>Participant</th>\n",
       "      <th>Hours of Exercise</th>\n",
       "      <th>BMI</th>\n",
       "    </tr>\n",
       "  </thead>\n",
       "  <tbody>\n",
       "    <tr>\n",
       "      <th>Participant</th>\n",
       "      <td>1.0</td>\n",
       "      <td>1.0</td>\n",
       "      <td>-1.0</td>\n",
       "    </tr>\n",
       "    <tr>\n",
       "      <th>Hours of Exercise</th>\n",
       "      <td>1.0</td>\n",
       "      <td>1.0</td>\n",
       "      <td>-1.0</td>\n",
       "    </tr>\n",
       "    <tr>\n",
       "      <th>BMI</th>\n",
       "      <td>-1.0</td>\n",
       "      <td>-1.0</td>\n",
       "      <td>1.0</td>\n",
       "    </tr>\n",
       "  </tbody>\n",
       "</table>\n",
       "</div>"
      ],
      "text/plain": [
       "                   Participant  Hours of Exercise  BMI\n",
       "Participant                1.0                1.0 -1.0\n",
       "Hours of Exercise          1.0                1.0 -1.0\n",
       "BMI                       -1.0               -1.0  1.0"
      ]
     },
     "execution_count": 9,
     "metadata": {},
     "output_type": "execute_result"
    }
   ],
   "source": [
    "df.corr(method='pearson')"
   ]
  },
  {
   "cell_type": "code",
   "execution_count": 10,
   "id": "94a977c3-400d-4b2b-a47e-2de9cb330c75",
   "metadata": {},
   "outputs": [
    {
     "data": {
      "text/html": [
       "<div>\n",
       "<style scoped>\n",
       "    .dataframe tbody tr th:only-of-type {\n",
       "        vertical-align: middle;\n",
       "    }\n",
       "\n",
       "    .dataframe tbody tr th {\n",
       "        vertical-align: top;\n",
       "    }\n",
       "\n",
       "    .dataframe thead th {\n",
       "        text-align: right;\n",
       "    }\n",
       "</style>\n",
       "<table border=\"1\" class=\"dataframe\">\n",
       "  <thead>\n",
       "    <tr style=\"text-align: right;\">\n",
       "      <th></th>\n",
       "      <th>Participant</th>\n",
       "      <th>Hours of Exercise</th>\n",
       "      <th>BMI</th>\n",
       "    </tr>\n",
       "  </thead>\n",
       "  <tbody>\n",
       "    <tr>\n",
       "      <th>Participant</th>\n",
       "      <td>1.0</td>\n",
       "      <td>1.0</td>\n",
       "      <td>-1.0</td>\n",
       "    </tr>\n",
       "    <tr>\n",
       "      <th>Hours of Exercise</th>\n",
       "      <td>1.0</td>\n",
       "      <td>1.0</td>\n",
       "      <td>-1.0</td>\n",
       "    </tr>\n",
       "    <tr>\n",
       "      <th>BMI</th>\n",
       "      <td>-1.0</td>\n",
       "      <td>-1.0</td>\n",
       "      <td>1.0</td>\n",
       "    </tr>\n",
       "  </tbody>\n",
       "</table>\n",
       "</div>"
      ],
      "text/plain": [
       "                   Participant  Hours of Exercise  BMI\n",
       "Participant                1.0                1.0 -1.0\n",
       "Hours of Exercise          1.0                1.0 -1.0\n",
       "BMI                       -1.0               -1.0  1.0"
      ]
     },
     "execution_count": 10,
     "metadata": {},
     "output_type": "execute_result"
    }
   ],
   "source": [
    "df.corr(method='spearman')"
   ]
  },
  {
   "cell_type": "code",
   "execution_count": 12,
   "id": "f44a6e50-62aa-4216-b798-98f344e1ab84",
   "metadata": {},
   "outputs": [
    {
     "data": {
      "text/html": [
       "<div>\n",
       "<style scoped>\n",
       "    .dataframe tbody tr th:only-of-type {\n",
       "        vertical-align: middle;\n",
       "    }\n",
       "\n",
       "    .dataframe tbody tr th {\n",
       "        vertical-align: top;\n",
       "    }\n",
       "\n",
       "    .dataframe thead th {\n",
       "        text-align: right;\n",
       "    }\n",
       "</style>\n",
       "<table border=\"1\" class=\"dataframe\">\n",
       "  <thead>\n",
       "    <tr style=\"text-align: right;\">\n",
       "      <th></th>\n",
       "      <th>Hours of TV per Day</th>\n",
       "      <th>Physical Activity Level</th>\n",
       "    </tr>\n",
       "  </thead>\n",
       "  <tbody>\n",
       "    <tr>\n",
       "      <th>0</th>\n",
       "      <td>1</td>\n",
       "      <td>98</td>\n",
       "    </tr>\n",
       "    <tr>\n",
       "      <th>1</th>\n",
       "      <td>2</td>\n",
       "      <td>96</td>\n",
       "    </tr>\n",
       "    <tr>\n",
       "      <th>2</th>\n",
       "      <td>3</td>\n",
       "      <td>94</td>\n",
       "    </tr>\n",
       "    <tr>\n",
       "      <th>3</th>\n",
       "      <td>4</td>\n",
       "      <td>92</td>\n",
       "    </tr>\n",
       "    <tr>\n",
       "      <th>4</th>\n",
       "      <td>5</td>\n",
       "      <td>90</td>\n",
       "    </tr>\n",
       "  </tbody>\n",
       "</table>\n",
       "</div>"
      ],
      "text/plain": [
       "   Hours of TV per Day  Physical Activity Level\n",
       "0                    1                       98\n",
       "1                    2                       96\n",
       "2                    3                       94\n",
       "3                    4                       92\n",
       "4                    5                       90"
      ]
     },
     "execution_count": 12,
     "metadata": {},
     "output_type": "execute_result"
    }
   ],
   "source": [
    "#Sol4..\n",
    "\n",
    "import pandas as pd\n",
    "\n",
    "# Creating sample data\n",
    "data = {\n",
    "    \n",
    "    'Hours of TV per Day': [i for i in range(1, 51)],  # Hours of TV watched per day\n",
    "    'Physical Activity Level': [100 - i * 2 for i in range(1, 51)]  # Hypothetical decreasing physical activity levels\n",
    "}\n",
    "\n",
    "# Creating a DataFrame\n",
    "df = pd.DataFrame(data)\n",
    "\n",
    "# Displaying the DataFrame\n",
    "df.head()\n"
   ]
  },
  {
   "cell_type": "code",
   "execution_count": 13,
   "id": "3f371d96-06fc-4881-8639-c936e068fb01",
   "metadata": {},
   "outputs": [
    {
     "data": {
      "text/html": [
       "<div>\n",
       "<style scoped>\n",
       "    .dataframe tbody tr th:only-of-type {\n",
       "        vertical-align: middle;\n",
       "    }\n",
       "\n",
       "    .dataframe tbody tr th {\n",
       "        vertical-align: top;\n",
       "    }\n",
       "\n",
       "    .dataframe thead th {\n",
       "        text-align: right;\n",
       "    }\n",
       "</style>\n",
       "<table border=\"1\" class=\"dataframe\">\n",
       "  <thead>\n",
       "    <tr style=\"text-align: right;\">\n",
       "      <th></th>\n",
       "      <th>Hours of TV per Day</th>\n",
       "      <th>Physical Activity Level</th>\n",
       "    </tr>\n",
       "  </thead>\n",
       "  <tbody>\n",
       "    <tr>\n",
       "      <th>Hours of TV per Day</th>\n",
       "      <td>1.0</td>\n",
       "      <td>-1.0</td>\n",
       "    </tr>\n",
       "    <tr>\n",
       "      <th>Physical Activity Level</th>\n",
       "      <td>-1.0</td>\n",
       "      <td>1.0</td>\n",
       "    </tr>\n",
       "  </tbody>\n",
       "</table>\n",
       "</div>"
      ],
      "text/plain": [
       "                         Hours of TV per Day  Physical Activity Level\n",
       "Hours of TV per Day                      1.0                     -1.0\n",
       "Physical Activity Level                 -1.0                      1.0"
      ]
     },
     "execution_count": 13,
     "metadata": {},
     "output_type": "execute_result"
    }
   ],
   "source": [
    "df.corr(method='pearson')\n",
    "#correlation of hours of tv watched per day with physical activity level"
   ]
  },
  {
   "cell_type": "code",
   "execution_count": 23,
   "id": "975ac1f0-f1a9-46c1-939e-ca967f6e7546",
   "metadata": {},
   "outputs": [],
   "source": [
    "#Sol5..\n",
    "\n",
    "import pandas as pd"
   ]
  },
  {
   "cell_type": "code",
   "execution_count": 24,
   "id": "76b4c8f9-0759-49d5-b782-74fb282f87cb",
   "metadata": {},
   "outputs": [],
   "source": [
    "#creating data\n",
    "data={\n",
    "    'age':[25,42,37,19,31,28],\n",
    "    'soft drink':['coke','pepsi','dew','coke','pepsi','coke']\n",
    "   }\n",
    "df=pd.DataFrame(data)"
   ]
  },
  {
   "cell_type": "code",
   "execution_count": 29,
   "id": "95ef0a3b-aff4-407e-baad-7163bb72cf6f",
   "metadata": {},
   "outputs": [],
   "source": [
    "# Encoding categorical variable 'soft drink' into numerical dummy variables\n",
    "encoded_soft_drink = pd.get_dummies(df['soft drink'])\n",
    "\n",
    "# Concatenating 'age' column with encoded soft drink columns\n",
    "df_encoded = pd.concat([df['age'], encoded_soft_drink], axis=1)\n"
   ]
  },
  {
   "cell_type": "code",
   "execution_count": 30,
   "id": "37f823a8-2265-48a0-9692-f7416bf1b9fd",
   "metadata": {},
   "outputs": [
    {
     "name": "stdout",
     "output_type": "stream",
     "text": [
      "Correlation Matrix:\n",
      "            age      coke       dew     pepsi\n",
      "age    1.000000 -0.837240  0.394132  0.576439\n",
      "coke  -0.837240  1.000000 -0.447214 -0.707107\n",
      "dew    0.394132 -0.447214  1.000000 -0.316228\n",
      "pepsi  0.576439 -0.707107 -0.316228  1.000000\n"
     ]
    }
   ],
   "source": [
    "# Calculating correlation\n",
    "correlation_matrix = df_encoded.corr()\n",
    "\n",
    "# Displaying the correlation matrix\n",
    "print(\"Correlation Matrix:\")\n",
    "print(correlation_matrix)\n"
   ]
  },
  {
   "cell_type": "code",
   "execution_count": 5,
   "id": "08d91355-4438-401a-ab75-04abe692e49e",
   "metadata": {},
   "outputs": [
    {
     "data": {
      "text/html": [
       "<div>\n",
       "<style scoped>\n",
       "    .dataframe tbody tr th:only-of-type {\n",
       "        vertical-align: middle;\n",
       "    }\n",
       "\n",
       "    .dataframe tbody tr th {\n",
       "        vertical-align: top;\n",
       "    }\n",
       "\n",
       "    .dataframe thead th {\n",
       "        text-align: right;\n",
       "    }\n",
       "</style>\n",
       "<table border=\"1\" class=\"dataframe\">\n",
       "  <thead>\n",
       "    <tr style=\"text-align: right;\">\n",
       "      <th></th>\n",
       "      <th>sales_calls</th>\n",
       "      <th>sales_per_week</th>\n",
       "    </tr>\n",
       "  </thead>\n",
       "  <tbody>\n",
       "    <tr>\n",
       "      <th>0</th>\n",
       "      <td>15</td>\n",
       "      <td>3</td>\n",
       "    </tr>\n",
       "    <tr>\n",
       "      <th>1</th>\n",
       "      <td>20</td>\n",
       "      <td>4</td>\n",
       "    </tr>\n",
       "    <tr>\n",
       "      <th>2</th>\n",
       "      <td>12</td>\n",
       "      <td>2</td>\n",
       "    </tr>\n",
       "    <tr>\n",
       "      <th>3</th>\n",
       "      <td>18</td>\n",
       "      <td>3</td>\n",
       "    </tr>\n",
       "    <tr>\n",
       "      <th>4</th>\n",
       "      <td>25</td>\n",
       "      <td>5</td>\n",
       "    </tr>\n",
       "  </tbody>\n",
       "</table>\n",
       "</div>"
      ],
      "text/plain": [
       "   sales_calls  sales_per_week\n",
       "0           15               3\n",
       "1           20               4\n",
       "2           12               2\n",
       "3           18               3\n",
       "4           25               5"
      ]
     },
     "execution_count": 5,
     "metadata": {},
     "output_type": "execute_result"
    }
   ],
   "source": [
    "#Sol6..\n",
    "\n",
    "import numpy as np\n",
    "import pandas as pd\n",
    "\n",
    "# Sample data (replace these with your actual data)\n",
    "data={\n",
    "   'sales_calls' : [15, 20, 12, 18, 25,22,24,16], \n",
    "  'sales_per_week' : [3, 4, 2, 3, 5,4,4,3]    \n",
    "  }\n",
    "df=pd.DataFrame(data)\n",
    "df.head()"
   ]
  },
  {
   "cell_type": "code",
   "execution_count": 8,
   "id": "a250386c-c58b-4465-a3b1-d030fa004809",
   "metadata": {},
   "outputs": [
    {
     "data": {
      "text/html": [
       "<div>\n",
       "<style scoped>\n",
       "    .dataframe tbody tr th:only-of-type {\n",
       "        vertical-align: middle;\n",
       "    }\n",
       "\n",
       "    .dataframe tbody tr th {\n",
       "        vertical-align: top;\n",
       "    }\n",
       "\n",
       "    .dataframe thead th {\n",
       "        text-align: right;\n",
       "    }\n",
       "</style>\n",
       "<table border=\"1\" class=\"dataframe\">\n",
       "  <thead>\n",
       "    <tr style=\"text-align: right;\">\n",
       "      <th></th>\n",
       "      <th>sales_calls</th>\n",
       "      <th>sales_per_week</th>\n",
       "    </tr>\n",
       "  </thead>\n",
       "  <tbody>\n",
       "    <tr>\n",
       "      <th>sales_calls</th>\n",
       "      <td>1.000000</td>\n",
       "      <td>0.946032</td>\n",
       "    </tr>\n",
       "    <tr>\n",
       "      <th>sales_per_week</th>\n",
       "      <td>0.946032</td>\n",
       "      <td>1.000000</td>\n",
       "    </tr>\n",
       "  </tbody>\n",
       "</table>\n",
       "</div>"
      ],
      "text/plain": [
       "                sales_calls  sales_per_week\n",
       "sales_calls        1.000000        0.946032\n",
       "sales_per_week     0.946032        1.000000"
      ]
     },
     "execution_count": 8,
     "metadata": {},
     "output_type": "execute_result"
    }
   ],
   "source": [
    "df.corr(method='pearson')"
   ]
  },
  {
   "cell_type": "code",
   "execution_count": 9,
   "id": "bd49c0d1-4602-441f-b456-b6b8ac2b5d99",
   "metadata": {},
   "outputs": [
    {
     "data": {
      "text/html": [
       "<div>\n",
       "<style scoped>\n",
       "    .dataframe tbody tr th:only-of-type {\n",
       "        vertical-align: middle;\n",
       "    }\n",
       "\n",
       "    .dataframe tbody tr th {\n",
       "        vertical-align: top;\n",
       "    }\n",
       "\n",
       "    .dataframe thead th {\n",
       "        text-align: right;\n",
       "    }\n",
       "</style>\n",
       "<table border=\"1\" class=\"dataframe\">\n",
       "  <thead>\n",
       "    <tr style=\"text-align: right;\">\n",
       "      <th></th>\n",
       "      <th>sales_calls</th>\n",
       "      <th>sales_per_week</th>\n",
       "    </tr>\n",
       "  </thead>\n",
       "  <tbody>\n",
       "    <tr>\n",
       "      <th>sales_calls</th>\n",
       "      <td>1.000000</td>\n",
       "      <td>0.946032</td>\n",
       "    </tr>\n",
       "    <tr>\n",
       "      <th>sales_per_week</th>\n",
       "      <td>0.946032</td>\n",
       "      <td>1.000000</td>\n",
       "    </tr>\n",
       "  </tbody>\n",
       "</table>\n",
       "</div>"
      ],
      "text/plain": [
       "                sales_calls  sales_per_week\n",
       "sales_calls        1.000000        0.946032\n",
       "sales_per_week     0.946032        1.000000"
      ]
     },
     "execution_count": 9,
     "metadata": {},
     "output_type": "execute_result"
    }
   ],
   "source": [
    "df.corr(method='pearson')"
   ]
  },
  {
   "cell_type": "code",
   "execution_count": null,
   "id": "dc1c059e-9443-4199-b08a-8acc67a2bf4f",
   "metadata": {},
   "outputs": [],
   "source": []
  }
 ],
 "metadata": {
  "kernelspec": {
   "display_name": "Python 3 (ipykernel)",
   "language": "python",
   "name": "python3"
  },
  "language_info": {
   "codemirror_mode": {
    "name": "ipython",
    "version": 3
   },
   "file_extension": ".py",
   "mimetype": "text/x-python",
   "name": "python",
   "nbconvert_exporter": "python",
   "pygments_lexer": "ipython3",
   "version": "3.10.8"
  }
 },
 "nbformat": 4,
 "nbformat_minor": 5
}
