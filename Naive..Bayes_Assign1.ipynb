{
 "cells": [
  {
   "cell_type": "code",
   "execution_count": null,
   "id": "b6c0ebe5-363a-475f-ac8c-9ce97d6354b7",
   "metadata": {},
   "outputs": [],
   "source": [
    "Q1. What is Bayes' theorem?\n",
    "\n",
    "Q2. What is the formula for Bayes' theorem?\n",
    "\n",
    "Q3. How is Bayes' theorem used in practice?\n",
    "\n",
    "Q4. What is the relationship between Bayes' theorem and conditional probability?\n",
    "\n",
    "Q5. How do you choose which type of Naive Bayes classifier to use for any given problem?\n",
    "\n",
    "Q6. Assignment:\n",
    "You have a dataset with two features, X1 and X2, and two possible classes, A and B. You want to use Naive\n",
    "Bayes to classify a new instance with features X1 = 3 and X2 = 4. The following table shows the frequency of\n",
    "each feature value for each class:\n",
    "Class X1=1 X1=2 X1=3 X2=1 X2=2 X2=3 X2=4\n",
    "A 3 3 4 4 3 3 3\n",
    "B 2 2 1 2 2 2 3\n",
    "Assuming equal prior probabilities for each class, which class would Naive Bayes predict the new instance\n",
    "to belong to?\n",
    "\n"
   ]
  },
  {
   "cell_type": "code",
   "execution_count": null,
   "id": "93a037bd-2d63-4b94-8751-514fc9c217a6",
   "metadata": {},
   "outputs": [],
   "source": [
    "#Sol1...\n",
    "\n",
    "Bayes’ theorem describes the probability of occurrence of an event related to any condition.\n",
    "It is also considered for the case of conditional probability. Bayes theorem is also known as the\n",
    "formula for the probability of “causes”. \n",
    "\n",
    "For example: if we have to calculate the probability of taking a blue ball from the second bag\n",
    "out of three different bags of balls, where each bag contains three different colour balls viz.\n",
    "red, blue, black. In this case, the probability of occurrence of an event is calculated depending\n",
    "on other conditions is known as conditional probability.\n",
    "\n",
    "#Bayes Theorem Formula:\n",
    "\n",
    "P(A/B)=(P(A)*P(B/A))/P(B)"
   ]
  },
  {
   "cell_type": "code",
   "execution_count": null,
   "id": "60718194-33cc-4897-a87f-2da7e427593b",
   "metadata": {},
   "outputs": [],
   "source": [
    "#Sol2...\n",
    "\n",
    "#Bayes Theorem Formula:\n",
    "\n",
    "P(A/B)=(P(A)*P(B/A))/P(B)\n",
    "\n",
    "P(A/B)=probability of A when B has already occured\n",
    "P(B/A)=probability of B when A has already occured\n",
    "P(B)=probability of B\n",
    "P(A)=probability of A"
   ]
  },
  {
   "cell_type": "code",
   "execution_count": null,
   "id": "022035bf-a3ea-4e91-81b2-319e620487fa",
   "metadata": {},
   "outputs": [],
   "source": [
    "#Sol3...\n",
    "\n",
    "\n",
    "1. Medical Diagnosis:\n",
    "In healthcare, Bayes' theorem helps in updating the probability of a patient having a disease\n",
    "based on the results of diagnostic tests.\n",
    "\n",
    "Example:\n",
    "P(D) is the prior probability of having the disease (based on general population statistics.\n",
    "                                                     \n",
    "P(T∣D) is the likelihood of testing positive if the patient has the disease.\n",
    "\n",
    "P(T) is the overall probability of testing positive (considering both those with and without\n",
    "                                                    the disease).\n",
    "\n",
    "P(D∣T) is the updated probability (posterior) of having the disease given a positive test result.\n",
    "                                                     \n",
    "                                                     \n",
    "2. Spam Filtering\n",
    "Email services use Bayes' theorem to classify emails as spam or not spam.\n",
    "\n",
    "Example:\n",
    "\n",
    "\n",
    "P(S) is the prior probability of any given email being spam.\n",
    "\n",
    "P(W∣S) is the probability of seeing a specific word in spam emails.\n",
    "\n",
    "P(W) is the overall probability of seeing that word in any email.\n",
    "\n",
    "P(S∣W) is the probability that an email is spam given that it contains that specific word.                                                     \n",
    "                                                     "
   ]
  },
  {
   "cell_type": "code",
   "execution_count": null,
   "id": "d6761fcc-68af-481f-aa7e-691b90a9adc1",
   "metadata": {},
   "outputs": [],
   "source": [
    "#Sol4...\n",
    "\n",
    "Conditional Probability:\n",
    "Conditional probability measures the probability of an event occurring given that another \n",
    "event has already occurred. It is denoted as 𝑃(A/B).\n",
    "\n",
    "P(A∣B) and is defined as:\n",
    "P(A/B)=𝑃(𝐴∩𝐵)/𝑃(𝐵)\n",
    "\n",
    "Bayes' theorem uses conditional probability to reverse the conditioning. It allows us to find\n",
    "the probability of event A given event B using the probability of event B given A.\n",
    "\n",
    "P(A/B)=(P(A)*P(B/A))/P(B)\n"
   ]
  },
  {
   "cell_type": "code",
   "execution_count": null,
   "id": "d427eb08-572c-4c89-a543-99c03c046db3",
   "metadata": {},
   "outputs": [],
   "source": [
    "#Sol5...\n",
    "\n",
    "\n",
    "Gaussian Naive Bayes:\n",
    "\n",
    "Use When: The features are continuous and follow a normal (Gaussian) distribution.\n",
    "Application Examples: Medical data with continuous features like blood pressure, temperature, etc.\n",
    "Reasoning: Gaussian Naive Bayes assumes that the features follow a normal distribution. If your \n",
    "data appears to be bell-shaped when plotted, this classifier is likely appropriate.\n",
    "\n",
    "Multinomial Naive Bayes:\n",
    "\n",
    "Use When: The features are discrete and represent counts or frequencies.\n",
    "Application Examples: Text classification (spam detection, sentiment analysis), where features \n",
    "are word counts or term frequencies.\n",
    "Reasoning: Multinomial Naive Bayes is particularly well-suited for document classification\n",
    "problems because it models the distribution of word counts.\n",
    "\n",
    "Bernoulli Naive Bayes:\n",
    "\n",
    "Use When: The features are binary (0 or 1) indicating the presence or absence of a feature.\n",
    "Application Examples: Document classification tasks where you are only concerned with whether a\n",
    "word occurs or not, rather than how often it occurs.\n",
    "Reasoning: Bernoulli Naive Bayes models binary data directly and is useful when the problem \n",
    "involves binary/Boolean features."
   ]
  },
  {
   "cell_type": "code",
   "execution_count": null,
   "id": "434df02d-654f-4df9-9e6e-9ca8bc3dd297",
   "metadata": {},
   "outputs": [],
   "source": []
  },
  {
   "cell_type": "code",
   "execution_count": null,
   "id": "d35740c9-ea6b-4299-8605-29cd479fdb5b",
   "metadata": {},
   "outputs": [],
   "source": []
  },
  {
   "cell_type": "code",
   "execution_count": null,
   "id": "98c36461-eb88-484f-a9ad-f3bad1376f27",
   "metadata": {},
   "outputs": [],
   "source": []
  },
  {
   "cell_type": "code",
   "execution_count": null,
   "id": "7b933529-721e-4d25-923e-3cc76d97c4ec",
   "metadata": {},
   "outputs": [],
   "source": []
  },
  {
   "cell_type": "code",
   "execution_count": null,
   "id": "400ff3b5-63c5-43e3-b9dd-0866ffb79d09",
   "metadata": {},
   "outputs": [],
   "source": []
  }
 ],
 "metadata": {
  "kernelspec": {
   "display_name": "Python 3 (ipykernel)",
   "language": "python",
   "name": "python3"
  },
  "language_info": {
   "codemirror_mode": {
    "name": "ipython",
    "version": 3
   },
   "file_extension": ".py",
   "mimetype": "text/x-python",
   "name": "python",
   "nbconvert_exporter": "python",
   "pygments_lexer": "ipython3",
   "version": "3.10.8"
  }
 },
 "nbformat": 4,
 "nbformat_minor": 5
}
