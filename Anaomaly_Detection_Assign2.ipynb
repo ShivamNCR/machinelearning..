{
 "cells": [
  {
   "cell_type": "code",
   "execution_count": null,
   "id": "4915f73a-b45f-45fd-93bb-8b0ba3de9b48",
   "metadata": {},
   "outputs": [],
   "source": [
    "Q1. What is the role of feature selection in anomaly detection?\n",
    "\n",
    "Q2. What are some common evaluation metrics for anomaly detection algorithms and how are they\n",
    "computed?\n",
    "\n",
    "Q3. What is DBSCAN and how does it work for clustering?\n",
    "                                       \n",
    "Q4. How does the epsilon parameter affect the performance of DBSCAN in detecting anomalies?\n",
    "\n",
    "Q5. What are the differences between the core, border, and noise points in DBSCAN, and how do they relate\n",
    "to anomaly detection?\n",
    "\n",
    "Q6. How does DBSCAN detect anomalies and what are the key parameters involved in the process?\n",
    "\n",
    "Q7. What is the make_circles package in scikit-learn used for?\n",
    "                                                         \n",
    "Q8. What are local outliers and global outliers, and how do they differ from each other?\n",
    "\n",
    "Q9. How can local outliers be detected using the Local Outlier Factor (LOF) algorithm?\n",
    "\n",
    "Q10. How can global outliers be detected using the Isolation Forest algorithm?\n",
    "\n",
    "Q11. What are some real-world applications where local outlier detection is more appropriate than global\n",
    "outlier detection, and vice versa?"
   ]
  },
  {
   "cell_type": "markdown",
   "id": "c76e2df0-a460-4395-8ea3-f50e1b02c365",
   "metadata": {},
   "source": [
    "## Solutions"
   ]
  },
  {
   "cell_type": "code",
   "execution_count": null,
   "id": "1e18b4e0-3fa5-47a3-9dbf-9ffb25c755c6",
   "metadata": {},
   "outputs": [],
   "source": [
    "#Sol1...\n",
    "\n",
    "Feature selection plays a crucial role in anomaly detection by removing irrelevant or redundant features, which can mislead the algorithm or increase\n",
    "computational complexity. By focusing on the most relevant features, the detection process becomes more efficient and accurate. \n",
    "\n",
    "For example, in network intrusion detection, only specific network features (such as IP address, port, or protocol) might indicate anomalies,\n",
    "while others add noise."
   ]
  },
  {
   "cell_type": "code",
   "execution_count": null,
   "id": "6a0c4c5c-775d-4721-a637-e420daacfa51",
   "metadata": {},
   "outputs": [],
   "source": [
    "#Sol2...\n",
    "\n",
    "Common evaluation metrics for anomaly detection include:\n",
    "- **Precision**: It measures the proportion of true anomalies among all predicted anomalies, calculated as \n",
    "    {Precision} = {True Positives}/({True Positives} + {False Positives}).\n",
    "    \n",
    "- **Recall (Sensitivity)**: It measures the proportion of true anomalies detected from the actual anomalies, calculated as \n",
    "    {Recall} = {True Positives}/({True Positives} +{False Negatives}).\n",
    "    \n",
    "- **F1 Score**: A harmonic mean of precision and recall, useful when there is an imbalance between them. \n",
    "    {F1 Score} = 2*{Precision}*{Recall}({Precision} + {Recall}).\n",
    "             \n",
    "- **ROC AUC (Area Under the Receiver Operating Characteristic Curve)**: Measures the trade-off between true positive rate and false\n",
    "    positive rate across thresholds, useful for threshold-based anomaly detection."
   ]
  },
  {
   "cell_type": "code",
   "execution_count": null,
   "id": "fd89d9c2-cea6-4fd0-b1f7-e6333a52c2d4",
   "metadata": {},
   "outputs": [],
   "source": [
    "#Sol3...\n",
    "\n",
    "DBSCAN (Density-Based Spatial Clustering of Applications with Noise) is a density-based clustering algorithm. It groups points that \n",
    "are closely packed together (those with many neighbors within a defined distance) and marks points in low-density regions as noise.\n",
    "\n",
    "It does not require the number of clusters as an input, unlike k-means, and can discover clusters of arbitrary shape. "
   ]
  },
  {
   "cell_type": "code",
   "execution_count": null,
   "id": "3a18cde3-e476-4a49-9e75-5392d3363bb4",
   "metadata": {},
   "outputs": [],
   "source": [
    "#Sol4...\n",
    "        \n",
    "The epsilon (ε) parameter defines the neighborhood radius around each data point. A small ε value results in small neighborhoods,\n",
    "potentially classifying more points as noise (anomalies), while a large ε may result in larger clusters, reducing the number \n",
    "of detected anomalies. \n",
    "Choosing an optimal ε value is critical—too small, and even normal points might be considered noise; too large,\n",
    "and actual anomalies may be absorbed into clusters.\n"
   ]
  },
  {
   "cell_type": "code",
   "execution_count": null,
   "id": "df942f24-eed3-4625-979c-35ba34dce57e",
   "metadata": {},
   "outputs": [],
   "source": [
    "#Sol5...\n",
    "\n",
    " **Core points**: Points with at least MinPts neighbors within a radius of ε. They are part of the dense cluster and help form its \"core.\"\n",
    "        \n",
    "- **Border points**: Points that do not have enough neighbors to be core points but are within the ε radius of a core point.\n",
    "        They are on the edge of a cluster.\n",
    "- **Noise points**: Points that are neither core nor border points. They do not belong to any cluster and are considered anomalies or outliers. \n",
    "        In anomaly detection, these noise points are the anomalies DBSCAN detects.\n"
   ]
  },
  {
   "cell_type": "code",
   "execution_count": null,
   "id": "545ebd70-c608-4082-b15f-bb4c888440f8",
   "metadata": {},
   "outputs": [],
   "source": [
    "#Sol6...\n",
    "\n",
    "        \n",
    "DBSCAN detects anomalies as noise points, which do not belong to any cluster because they have fewer than MinPts neighbors\n",
    "within an ε distance. The key parameters are:\n",
    "        \n",
    "- **Epsilon (ε)**: Controls the size of the neighborhood around a point.\n",
    "- **MinPts**: Defines the minimum number of points required to form a dense region. Points that don't meet this threshold and are \n",
    "        outside the clusters are treated as anomalies."
   ]
  },
  {
   "cell_type": "code",
   "execution_count": null,
   "id": "acba4056-9351-409c-9fee-c930535ed7c8",
   "metadata": {},
   "outputs": [],
   "source": [
    "#Sol7...\n",
    "\n",
    "The `make_circles` function in scikit-learn is used to generate synthetic datasets of concentric circles. It is useful for testing\n",
    "clustering and classification algorithms, especially those that work well on non-linearly separable data. \n",
    "    \n",
    "It can be used to create scenarios for anomaly detection, where points outside the circles might be considered outliers.\n"
   ]
  },
  {
   "cell_type": "code",
   "execution_count": null,
   "id": "f7d90807-3382-4886-9067-60037b276a04",
   "metadata": {},
   "outputs": [],
   "source": [
    "#Sol8...\n",
    "\n",
    "- **Local outliers**: Anomalous data points that deviate significantly from their local neighbors but may not appear anomalous \n",
    "    in a global context. For instance, in a densely populated neighborhood, a house priced much higher than its neighboring \n",
    "                        homes can be a local outlier, even if it's within a typical price range for the entire city.\n",
    "                                        \n",
    "- **Global outliers**: Points that are anomalous compared to the entire dataset. \n",
    "    For example, in a housing dataset, a house priced 10 times higher than all other houses across the city would be a global outlier."
   ]
  },
  {
   "cell_type": "code",
   "execution_count": null,
   "id": "ebb004d3-8c49-4ff5-97d0-b6d9751b4c59",
   "metadata": {},
   "outputs": [],
   "source": [
    "#Sol9...\n",
    "\n",
    "\n",
    "                                     \n",
    "LOF detects local outliers by comparing the density of a point to its neighbors. If a point has a significantly lower density \n",
    "compared to its neighbors, it is flagged as a local outlier.\n",
    "\n",
    "The LOF algorithm calculates the local reachability density (LRD) \n",
    "for each point, and points with a low LRD (indicating sparse neighbors) are considered local outliers."
   ]
  },
  {
   "cell_type": "code",
   "execution_count": null,
   "id": "ebfdcf9a-e8e5-4718-9e99-2e893c3070d1",
   "metadata": {},
   "outputs": [],
   "source": [
    "#Sol10...\n",
    "\n",
    "The Isolation Forest algorithm isolates data points by recursively splitting the data. Anomalies (global outliers) are easier \n",
    "to isolate since they require fewer splits due to their uniqueness.\n",
    "                                        \n",
    "The algorithm randomly selects a feature and split value to divide the data, and points that are isolated quickly \n",
    "(with fewer splits) are considered anomalies."
   ]
  },
  {
   "cell_type": "code",
   "execution_count": null,
   "id": "dbad3bed-12f1-493c-a1c4-7766f258f2fe",
   "metadata": {},
   "outputs": [],
   "source": [
    "#Sol11...\n",
    "\n",
    "\n",
    "- **Local outlier detection**: More appropriate in fraud detection (e.g., credit card fraud), where unusual activity within a \n",
    "                              specific users transaction history (localized behavior) may signal fraud, even if it's not globally unusual.\n",
    "\n",
    "- **Global outlier detection**: More suitable for detecting faults in sensor networks, where a malfunctioning sensor produces readings that \n",
    "                                deviate significantly from all other sensors across the entire system, making it a global outlier.\n"
   ]
  },
  {
   "cell_type": "code",
   "execution_count": null,
   "id": "7c7ba1f1-f7dd-4153-bdae-45a22b424a40",
   "metadata": {},
   "outputs": [],
   "source": []
  }
 ],
 "metadata": {
  "kernelspec": {
   "display_name": "Python 3 (ipykernel)",
   "language": "python",
   "name": "python3"
  },
  "language_info": {
   "codemirror_mode": {
    "name": "ipython",
    "version": 3
   },
   "file_extension": ".py",
   "mimetype": "text/x-python",
   "name": "python",
   "nbconvert_exporter": "python",
   "pygments_lexer": "ipython3",
   "version": "3.11.7"
  }
 },
 "nbformat": 4,
 "nbformat_minor": 5
}
