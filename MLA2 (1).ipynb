{
 "cells": [
  {
   "cell_type": "code",
   "execution_count": null,
   "id": "95129033-2d18-44e2-8c88-bff1bf21d1c1",
   "metadata": {},
   "outputs": [],
   "source": [
    "##QUESTIONS...\n",
    "\n",
    "\n",
    "Q1: Define overfitting and underfitting in machine learning. What are the consequences of each, and how\n",
    "can they be mitigated?\n",
    "\n",
    "Q2: How can we reduce overfitting? Explain in brief.\n",
    "\n",
    "Q3: Explain underfitting. List scenarios where underfitting can occur in ML.\n",
    "\n",
    "Q4: Explain the bias-variance tradeoff in machine learning. What is the relationship between bias and\n",
    "variance, and how do they affect model performance?\n",
    "\n",
    "Q5: Discuss some common methods for detecting overfitting and underfitting in machine learning models.\n",
    "How can you determine whether your model is overfitting or underfitting?\n",
    "\n",
    "Q6: Compare and contrast bias and variance in machine learning. What are some examples of high bias\n",
    "and high variance models, and how do they differ in terms of their performance?\n",
    "\n",
    "Q7: What is regularization in machine learning, and how can it be used to prevent overfitting? Describe\n",
    "some common regularization techniques and how they work."
   ]
  },
  {
   "cell_type": "code",
   "execution_count": null,
   "id": "2cc564a9-8806-4a31-8005-914bb238f635",
   "metadata": {},
   "outputs": [],
   "source": [
    "#Sol1.\n",
    "\n",
    "Overfitting:\n",
    "A statistical model is said to be overfitted when the model does not make accurate predictions on testing data.\n",
    "When a model gets trained with so much data, it starts learning from the noise and inaccurate data entries \n",
    "in our data set and when testing with test data results in High variance.\n",
    "\n",
    "Underfitting:\n",
    "A statistical model or a machine learning algorithm is said to have underfitting when a model is too simple \n",
    "to capture data complexities. It represents the inability of the model to learn the training data effectively\n",
    "result in poor performance both on the training and testing data."
   ]
  },
  {
   "cell_type": "code",
   "execution_count": null,
   "id": "9e17f983-c8a2-4670-ba15-6f3035030429",
   "metadata": {},
   "outputs": [],
   "source": [
    "#Sol2.\n",
    "\n",
    "Early stopping:\n",
    "Early stopping pauses the training phase before the machine learning model learns the noise in the data.\n",
    "\n",
    "Regularization:\n",
    "Regularization is a collection of training/optimization techniques that seek to reduce overfitting. \n",
    "\n",
    "Ensembling:\n",
    "Ensembling combines predictions from several separate machine learning algorithms.\n",
    "\n",
    "Data augmentation:\n",
    "Data augmentation is a machine learning technique that changes the sample data slightly every time \n",
    "the model processes it. "
   ]
  },
  {
   "cell_type": "code",
   "execution_count": null,
   "id": "dd3ac628-79bb-4640-a4c9-0affd590ae70",
   "metadata": {},
   "outputs": [],
   "source": [
    "#Sol3.\n",
    "\n",
    "Underfitting:\n",
    "Underfitting happens when the model has not been trained for a sufficient time or when the input variables\n",
    "are insufficiently significant to discover a meaningful link between theinput and output variables.\n",
    "\n",
    "scenarios where underfitting can occur in ML are as follows:\n",
    "\n",
    "1.The model is too simple, So it may be not capable to represent the complexities in the data.\n",
    "\n",
    "2.The input features which is used to train the model is not the adequate representations of underlying factors\n",
    "influencing the target variable.\n",
    "\n",
    "3.The size of the training dataset used is not enough."
   ]
  },
  {
   "cell_type": "code",
   "execution_count": null,
   "id": "3a96ccd2-4fb4-4e14-ac01-cbf42937d550",
   "metadata": {},
   "outputs": [],
   "source": [
    "#Sol4:\n",
    "\n",
    "Bias and variance are complements of each other” The increase of one will result in the decrease of the other \n",
    "and vice versa. \n",
    "\n",
    "Hence, finding the right balance of values is known as the Bias-Variance Tradeoff. \n"
   ]
  },
  {
   "cell_type": "code",
   "execution_count": null,
   "id": "932535d1-e3aa-4e52-bc55-d3da75e13239",
   "metadata": {},
   "outputs": [],
   "source": [
    "#Sol5.\n",
    "\n",
    "We can determine whether a predictive model is underfitting or overfitting the training data by looking at the\n",
    "prediction error on the training data and the evaluation data.\n",
    "\n",
    "1.Your model is underfitting the training data when the model performs poorly on the training data. \n",
    "2.Your model is overfitting your training data when you see that the model performs well on the training data\n",
    "  but does not perform well on the evaluation data. "
   ]
  },
  {
   "cell_type": "code",
   "execution_count": null,
   "id": "e6221eec-7150-4baf-9573-a43a1b8df87b",
   "metadata": {},
   "outputs": [],
   "source": [
    "#Sol6.\n",
    "\n",
    "Variance specifies the amount of variation that the estimate of the target function will change if different\n",
    "training data was used.\n",
    "\n",
    "Bias refers to the difference between predicted values and actual values.\n"
   ]
  },
  {
   "cell_type": "code",
   "execution_count": null,
   "id": "c411d9f8-2ba7-4734-a7a4-ed706e12941b",
   "metadata": {},
   "outputs": [],
   "source": [
    "#Sol7.\n",
    "\n",
    "Regularization:\n",
    "        \n",
    "    Regularization in machine learning is the process of regularizing the parameters that constrain, regularizes,\n",
    "    or shrinks the coefficient estimates towards zero. \n",
    "    \n",
    "    In other words, this technique discourages learning a more complex or flexible model, avoiding the risk of \n",
    "    Overfitting."
   ]
  }
 ],
 "metadata": {
  "kernelspec": {
   "display_name": "Python 3 (ipykernel)",
   "language": "python",
   "name": "python3"
  },
  "language_info": {
   "codemirror_mode": {
    "name": "ipython",
    "version": 3
   },
   "file_extension": ".py",
   "mimetype": "text/x-python",
   "name": "python",
   "nbconvert_exporter": "python",
   "pygments_lexer": "ipython3",
   "version": "3.10.8"
  }
 },
 "nbformat": 4,
 "nbformat_minor": 5
}
