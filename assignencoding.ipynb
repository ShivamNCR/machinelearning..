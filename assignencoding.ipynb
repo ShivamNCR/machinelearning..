{
 "cells": [
  {
   "cell_type": "code",
   "execution_count": null,
   "id": "eb3392d6-1385-440a-a142-1ad8f9507eee",
   "metadata": {},
   "outputs": [],
   "source": [
    "#Questions...\n",
    "\n",
    "\n",
    "Q1. What is data encoding? How is it useful in data science?\n",
    "\n",
    "Q2. What is nominal encoding? Provide an example of how you would use it in a real-world scenario.\n",
    "\n",
    "Q3. In what situations is nominal encoding preferred over one-hot encoding? Provide a practical example.\n",
    "\n",
    "Q4. Suppose you have a dataset containing categorical data with 5 unique values. Which encoding\n",
    "technique would you use to transform this data into a format suitable for machine learning algorithms?\n",
    "Explain why you made this choice.\n",
    "\n",
    "Q5. In a machine learning project, you have a dataset with 1000 rows and 5 columns. Two of the columns\n",
    "are categorical, and the remaining three columns are numerical. If you were to use nominal encoding to\n",
    "transform the categorical data, how many new columns would be created? Show your calculations.\n",
    "\n",
    "Q6. You are working with a dataset containing information about different types of animals, including their\n",
    "species, habitat, and diet. Which encoding technique would you use to transform the categorical data into\n",
    "a format suitable for machine learning algorithms? Justify your answer.\n",
    "\n",
    "Q7.You are working on a project that involves predicting customer churn for a telecommunications\n",
    "company. You have a dataset with 5 features, including the customer's gender, age, contract type,\n",
    "monthly charges, and tenure. Which encoding technique(s) would you use to transform the categorical\n",
    "data into numerical data? Provide a step-by-step explanation of how you would implement the encoding.\n"
   ]
  },
  {
   "cell_type": "code",
   "execution_count": null,
   "id": "26be6fc1-6f68-494d-a44e-affa72a60db9",
   "metadata": {},
   "outputs": [],
   "source": [
    "#Sol1.\n",
    "\n",
    "Data Encoding is an important pre-processing step in Machine Learning. It refers to the process of converting\n",
    "    categorical or textual data into numerical format, so that it can be used as input for algorithms to process.\n",
    "\n",
    "Importance:\n",
    "    \n",
    "Data encoding removes redundancies from data.\n",
    "The size of your files will be a lot smaller. \n",
    "Encoding results in faster input speed when data is saved."
   ]
  },
  {
   "cell_type": "code",
   "execution_count": null,
   "id": "d8d0150d-817a-4ec3-8a4c-7c784e4e66cf",
   "metadata": {},
   "outputs": [],
   "source": [
    "#Sol2:\n",
    "\n",
    "Nominal encoding:\n",
    "When we have a feature where variables are just names and there is no order or rank to this variable's \n",
    "feature. \n",
    "\n",
    "For example: City of person lives in, Gender of person, Marital Status, etc… In the above example,\n",
    "We do not have any order or rank, or sequence."
   ]
  },
  {
   "cell_type": "code",
   "execution_count": null,
   "id": "646e776e-b889-4313-b4ce-5125e21e0d5a",
   "metadata": {},
   "outputs": [],
   "source": [
    "#Sol4:\n",
    "We should prefer Ordinal Encoding over any other encoding beacuse here all values are unique .So,for efficiently\n",
    "applying machine learning algorithm we need to give unique numerical values to unique categorical values..\n",
    "\n",
    "The chances of overfitting the data will be less if we use ordinal encoding.\n",
    "\n"
   ]
  },
  {
   "cell_type": "code",
   "execution_count": 1,
   "id": "a0691413-123d-40a5-9d1b-41586878e774",
   "metadata": {},
   "outputs": [],
   "source": [
    "import pandas as pd\n",
    "from sklearn.preprocessing import OrdinalEncoder"
   ]
  },
  {
   "cell_type": "code",
   "execution_count": 2,
   "id": "6087444b-b8b8-480a-975e-4521e1f3008c",
   "metadata": {},
   "outputs": [],
   "source": [
    "#creating sample data\n",
    "df=pd.DataFrame({'grade':['A','B','C','D','E']})"
   ]
  },
  {
   "cell_type": "code",
   "execution_count": 3,
   "id": "7a5e172e-1924-4aa7-bfd8-c0646cb2ba7c",
   "metadata": {},
   "outputs": [],
   "source": [
    "#creating instance...\n",
    "encoder=OrdinalEncoder(categories=[['A','B','C','D','E']])"
   ]
  },
  {
   "cell_type": "code",
   "execution_count": 5,
   "id": "e118eeab-bb1f-470e-b9b0-08d9bbbe0f52",
   "metadata": {},
   "outputs": [
    {
     "data": {
      "text/plain": [
       "array([[0.],\n",
       "       [1.],\n",
       "       [2.],\n",
       "       [3.],\n",
       "       [4.]])"
      ]
     },
     "execution_count": 5,
     "metadata": {},
     "output_type": "execute_result"
    }
   ],
   "source": [
    "encoder.fit_transform(df[['grade']])"
   ]
  },
  {
   "cell_type": "code",
   "execution_count": 9,
   "id": "378b98dd-e6cf-401a-92ad-ff73624f924f",
   "metadata": {},
   "outputs": [],
   "source": [
    "#Sol5..\n",
    "\n",
    "import seaborn as sns\n",
    "import numpy as np"
   ]
  },
  {
   "cell_type": "code",
   "execution_count": 7,
   "id": "fde7e137-77c1-426f-ba83-d91afb1033aa",
   "metadata": {},
   "outputs": [],
   "source": [
    "df=sns.load_dataset('titanic')"
   ]
  },
  {
   "cell_type": "code",
   "execution_count": 8,
   "id": "520b63b2-dead-4e81-bf43-e90db7feccbf",
   "metadata": {},
   "outputs": [
    {
     "data": {
      "text/html": [
       "<div>\n",
       "<style scoped>\n",
       "    .dataframe tbody tr th:only-of-type {\n",
       "        vertical-align: middle;\n",
       "    }\n",
       "\n",
       "    .dataframe tbody tr th {\n",
       "        vertical-align: top;\n",
       "    }\n",
       "\n",
       "    .dataframe thead th {\n",
       "        text-align: right;\n",
       "    }\n",
       "</style>\n",
       "<table border=\"1\" class=\"dataframe\">\n",
       "  <thead>\n",
       "    <tr style=\"text-align: right;\">\n",
       "      <th></th>\n",
       "      <th>survived</th>\n",
       "      <th>pclass</th>\n",
       "      <th>sex</th>\n",
       "      <th>age</th>\n",
       "      <th>sibsp</th>\n",
       "      <th>parch</th>\n",
       "      <th>fare</th>\n",
       "      <th>embarked</th>\n",
       "      <th>class</th>\n",
       "      <th>who</th>\n",
       "      <th>adult_male</th>\n",
       "      <th>deck</th>\n",
       "      <th>embark_town</th>\n",
       "      <th>alive</th>\n",
       "      <th>alone</th>\n",
       "    </tr>\n",
       "  </thead>\n",
       "  <tbody>\n",
       "    <tr>\n",
       "      <th>0</th>\n",
       "      <td>0</td>\n",
       "      <td>3</td>\n",
       "      <td>male</td>\n",
       "      <td>22.0</td>\n",
       "      <td>1</td>\n",
       "      <td>0</td>\n",
       "      <td>7.2500</td>\n",
       "      <td>S</td>\n",
       "      <td>Third</td>\n",
       "      <td>man</td>\n",
       "      <td>True</td>\n",
       "      <td>NaN</td>\n",
       "      <td>Southampton</td>\n",
       "      <td>no</td>\n",
       "      <td>False</td>\n",
       "    </tr>\n",
       "    <tr>\n",
       "      <th>1</th>\n",
       "      <td>1</td>\n",
       "      <td>1</td>\n",
       "      <td>female</td>\n",
       "      <td>38.0</td>\n",
       "      <td>1</td>\n",
       "      <td>0</td>\n",
       "      <td>71.2833</td>\n",
       "      <td>C</td>\n",
       "      <td>First</td>\n",
       "      <td>woman</td>\n",
       "      <td>False</td>\n",
       "      <td>C</td>\n",
       "      <td>Cherbourg</td>\n",
       "      <td>yes</td>\n",
       "      <td>False</td>\n",
       "    </tr>\n",
       "    <tr>\n",
       "      <th>2</th>\n",
       "      <td>1</td>\n",
       "      <td>3</td>\n",
       "      <td>female</td>\n",
       "      <td>26.0</td>\n",
       "      <td>0</td>\n",
       "      <td>0</td>\n",
       "      <td>7.9250</td>\n",
       "      <td>S</td>\n",
       "      <td>Third</td>\n",
       "      <td>woman</td>\n",
       "      <td>False</td>\n",
       "      <td>NaN</td>\n",
       "      <td>Southampton</td>\n",
       "      <td>yes</td>\n",
       "      <td>True</td>\n",
       "    </tr>\n",
       "    <tr>\n",
       "      <th>3</th>\n",
       "      <td>1</td>\n",
       "      <td>1</td>\n",
       "      <td>female</td>\n",
       "      <td>35.0</td>\n",
       "      <td>1</td>\n",
       "      <td>0</td>\n",
       "      <td>53.1000</td>\n",
       "      <td>S</td>\n",
       "      <td>First</td>\n",
       "      <td>woman</td>\n",
       "      <td>False</td>\n",
       "      <td>C</td>\n",
       "      <td>Southampton</td>\n",
       "      <td>yes</td>\n",
       "      <td>False</td>\n",
       "    </tr>\n",
       "    <tr>\n",
       "      <th>4</th>\n",
       "      <td>0</td>\n",
       "      <td>3</td>\n",
       "      <td>male</td>\n",
       "      <td>35.0</td>\n",
       "      <td>0</td>\n",
       "      <td>0</td>\n",
       "      <td>8.0500</td>\n",
       "      <td>S</td>\n",
       "      <td>Third</td>\n",
       "      <td>man</td>\n",
       "      <td>True</td>\n",
       "      <td>NaN</td>\n",
       "      <td>Southampton</td>\n",
       "      <td>no</td>\n",
       "      <td>True</td>\n",
       "    </tr>\n",
       "  </tbody>\n",
       "</table>\n",
       "</div>"
      ],
      "text/plain": [
       "   survived  pclass     sex   age  sibsp  parch     fare embarked  class  \\\n",
       "0         0       3    male  22.0      1      0   7.2500        S  Third   \n",
       "1         1       1  female  38.0      1      0  71.2833        C  First   \n",
       "2         1       3  female  26.0      0      0   7.9250        S  Third   \n",
       "3         1       1  female  35.0      1      0  53.1000        S  First   \n",
       "4         0       3    male  35.0      0      0   8.0500        S  Third   \n",
       "\n",
       "     who  adult_male deck  embark_town alive  alone  \n",
       "0    man        True  NaN  Southampton    no  False  \n",
       "1  woman       False    C    Cherbourg   yes  False  \n",
       "2  woman       False  NaN  Southampton   yes   True  \n",
       "3  woman       False    C  Southampton   yes  False  \n",
       "4    man        True  NaN  Southampton    no   True  "
      ]
     },
     "execution_count": 8,
     "metadata": {},
     "output_type": "execute_result"
    }
   ],
   "source": [
    "df.head()"
   ]
  },
  {
   "cell_type": "code",
   "execution_count": 14,
   "id": "4756b214-eec3-4b2e-8c13-bef1cfb3ac86",
   "metadata": {},
   "outputs": [],
   "source": [
    "tit=np.unique(df[['sex']])"
   ]
  },
  {
   "cell_type": "code",
   "execution_count": 15,
   "id": "d53d15de-f5b7-4142-acd3-a1f4ff2af1fa",
   "metadata": {},
   "outputs": [
    {
     "data": {
      "text/plain": [
       "array(['female', 'male'], dtype=object)"
      ]
     },
     "execution_count": 15,
     "metadata": {},
     "output_type": "execute_result"
    }
   ],
   "source": [
    "tit"
   ]
  },
  {
   "cell_type": "code",
   "execution_count": 23,
   "id": "aeafdee5-0006-4a79-b702-4bde6553d0dc",
   "metadata": {},
   "outputs": [],
   "source": [
    "town=np.unique(df['who'])"
   ]
  },
  {
   "cell_type": "code",
   "execution_count": 24,
   "id": "2514503a-55df-4d09-86f2-cdcf60922dbd",
   "metadata": {},
   "outputs": [
    {
     "data": {
      "text/plain": [
       "array(['child', 'man', 'woman'], dtype=object)"
      ]
     },
     "execution_count": 24,
     "metadata": {},
     "output_type": "execute_result"
    }
   ],
   "source": [
    "town"
   ]
  },
  {
   "cell_type": "code",
   "execution_count": null,
   "id": "a900ecd0-c794-437b-bb2f-9d1e842d1083",
   "metadata": {},
   "outputs": [],
   "source": [
    "now here no. of new unique columns will be\n",
    "\n",
    "no. of element in town+no. of elements in tit"
   ]
  },
  {
   "cell_type": "code",
   "execution_count": null,
   "id": "357eb075-fc14-4a2a-828c-c326f8a23404",
   "metadata": {},
   "outputs": [],
   "source": [
    "#Sol6..\n",
    "\n",
    "When you're dealing with categories like species, habitat, and diet in your data, you need a way to turn\n",
    "those words into numbers that a computer can understand.\n",
    "\n",
    "Here are simple ways to do it:\n",
    "\n",
    "Label Encoding: Imagine giving each category a number. For example:\n",
    "\n",
    "Species: Dog - 1, Cat - 2, Bird - 3\n",
    "Habitat: Forest - 1, Ocean - 2, Desert - 3\n",
    "Diet: Carnivore - 1, Herbivore - 2, Omnivore - 3\n",
    "\n",
    "One-Hot Encoding: It's like making a list for each category and marking with 1 where the animal belongs \n",
    "and 0 where it doesn’t.\n",
    "\n",
    "Species: [1, 0, 0] for Dog, [0, 1, 0] for Cat, [0, 0, 1] for Bird\n",
    "Habitat: [1, 0, 0] for Forest, [0, 1, 0] for Ocean, [0, 0, 1] for Desert\n",
    "Diet: [1, 0, 0] for Carnivore, [0, 1, 0] for Herbivore, [0, 0, 1] for Omnivore\n",
    "\n",
    "you can use any one of above encoding for applying machine learning algorithms"
   ]
  },
  {
   "cell_type": "code",
   "execution_count": null,
   "id": "695a1d6e-ea5f-4746-9ee1-3d085c634a2e",
   "metadata": {},
   "outputs": [],
   "source": [
    "#Sol7..\n",
    "\n",
    "Identify Categorical Features: In this case, the categorical features are \"gender\" and \"contract type\".\n",
    "\n",
    "Choose Encoding Techniques:\n",
    "\n",
    "For \"gender\" (assuming it has two categories: male and female), you could use Label Encoding since there's no\n",
    "inherent order between the categories.\n",
    "\n",
    "For \"contract type\" (assuming multiple categories like 'month-to-month', 'one year', 'two year'), One-Hot \n",
    "Encoding is suitable as there's no ordinal relationship between these categories."
   ]
  },
  {
   "cell_type": "code",
   "execution_count": 1,
   "id": "f9818787-6baa-41fb-a970-12a1e25e5b68",
   "metadata": {},
   "outputs": [],
   "source": [
    "import pandas as pd\n",
    "from sklearn.preprocessing import LabelEncoder, OneHotEncoder\n"
   ]
  },
  {
   "cell_type": "code",
   "execution_count": null,
   "id": "ff3c431b-ca2a-450b-87b6-19aaf62f86ea",
   "metadata": {},
   "outputs": [],
   "source": [
    "# Assuming your dataset is loaded into a DataFrame called 'data'\n",
    "# 'data' should have columns: ['gender', 'age', 'contract_type', 'monthly_charges', 'tenure']\n"
   ]
  },
  {
   "cell_type": "code",
   "execution_count": null,
   "id": "e3daccb4-a347-4d41-a61b-604814ff6fb1",
   "metadata": {},
   "outputs": [],
   "source": [
    "categorical_cols = ['gender', 'contract_type']\n",
    "numerical_cols = ['age', 'monthly_charges', 'tenure']\n"
   ]
  },
  {
   "cell_type": "code",
   "execution_count": null,
   "id": "5e481e24-5ce1-427b-8106-b83579ca8da6",
   "metadata": {},
   "outputs": [],
   "source": [
    "label_encoder = LabelEncoder()\n",
    "data['gender_encoded'] = label_encoder.fit_transform(data['gender'])\n"
   ]
  },
  {
   "cell_type": "code",
   "execution_count": null,
   "id": "936e4c1a-9c0c-4e6d-8062-390feec22171",
   "metadata": {},
   "outputs": [],
   "source": [
    "onehot_encoder = pd.get_dummies(data['contract_type'], prefix='contract')\n",
    "data = pd.concat([data, onehot_encoder], axis=1)\n"
   ]
  },
  {
   "cell_type": "code",
   "execution_count": null,
   "id": "0da5b57d-26a0-4228-8f27-b0ba88b6b061",
   "metadata": {},
   "outputs": [],
   "source": [
    "data.drop(['gender', 'contract_type'], axis=1, inplace=True)\n"
   ]
  }
 ],
 "metadata": {
  "kernelspec": {
   "display_name": "Python 3 (ipykernel)",
   "language": "python",
   "name": "python3"
  },
  "language_info": {
   "codemirror_mode": {
    "name": "ipython",
    "version": 3
   },
   "file_extension": ".py",
   "mimetype": "text/x-python",
   "name": "python",
   "nbconvert_exporter": "python",
   "pygments_lexer": "ipython3",
   "version": "3.10.8"
  }
 },
 "nbformat": 4,
 "nbformat_minor": 5
}
